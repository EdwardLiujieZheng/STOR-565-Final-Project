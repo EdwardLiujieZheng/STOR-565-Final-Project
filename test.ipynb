{
 "cells": [
  {
   "cell_type": "code",
   "execution_count": 21,
   "metadata": {},
   "outputs": [
    {
     "name": "stdout",
     "output_type": "stream",
     "text": [
      "0 - \"surface\"\n",
      "1 - \"player_1_age\"\n",
      "2 - \"player_2_age\"\n",
      "3 - \"player_1_ht\"\n",
      "4 - \"player_2_ht\"\n",
      "5 - \"player_1_rank\"\n",
      "6 - \"player_2_rank\"\n",
      "7 - \"player_1_ace\"\n",
      "8 - \"player_2_ace\"\n",
      "9 - \"player_1_df\"\n",
      "10 - \"player_2_df\"\n",
      "11 - \"player_1_1stWon\"\n",
      "12 - \"player_2_1stWon\"\n",
      "13 - \"player_1_1stIn\"\n",
      "14 - \"player_2_1stIn\"\n",
      "15 - \"player_1_bpFaced\"\n",
      "16 - \"player_2_bpFaced\"\n",
      "17 - \"player_1_2ndWon\"\n",
      "18 - \"player_2_2ndWon\"\n",
      "19 - \"player_1_svpt\"\n",
      "20 - \"player_2_svpt\"\n",
      "21 - \"player_1_bpSaved\"\n",
      "22 - \"player_2_bpSaved\"\n",
      "23 - \"player_1_h2h\"\n",
      "24 - \"player_2_h2h\"\n",
      "25 - \"player_1_win_pct\"\n",
      "26 - \"player_2_win_pct\"\n",
      "27 - \"player_1_surface_win_pct\"\n",
      "28 - \"player_2_surface_win_pct\"\n",
      "29 - \"player_1_level_win_pct\"\n",
      "30 - \"player_2_level_win_pct\"\n",
      "31 - \"winner_binary\"\n"
     ]
    }
   ],
   "source": [
    "filepath = \"wta_atp_modified_data.csv\"\n",
    "\n",
    "with open(filepath, \"r\", encoding='utf-8') as f:\n",
    "    colnames = f.readline().strip(\"\\n\")\n",
    "\n",
    "colnames = colnames.split(\",\")\n",
    "for idx,name in enumerate(colnames):\n",
    "    print(f\"{idx} - {name}\")\n",
    "    pass"
   ]
  },
  {
   "cell_type": "code",
   "execution_count": 28,
   "metadata": {},
   "outputs": [
    {
     "name": "stdout",
     "output_type": "stream",
     "text": [
      "<class 'list'>\n",
      "['\"surface\"', '\"Hard\"', '\"Hard\"']\n",
      "{'\"Clay\"', '\"Grass\"', '\"surface\"', '\"Hard\"', '\"Carpet\"'}\n"
     ]
    }
   ],
   "source": [
    "lines = []\n",
    "surfaces = []\n",
    "with open(filepath, \"r\") as f:\n",
    "    for line in f.readlines():\n",
    "        line = line.strip(\"\\n\").split(\",\")\n",
    "        lines.append(line)\n",
    "        surfaces.append(line[0])\n",
    "\n",
    "print(type(surfaces))\n",
    "print(surfaces[:3])\n",
    "print(set(surfaces))"
   ]
  }
 ],
 "metadata": {
  "kernelspec": {
   "display_name": "venv",
   "language": "python",
   "name": "python3"
  },
  "language_info": {
   "codemirror_mode": {
    "name": "ipython",
    "version": 3
   },
   "file_extension": ".py",
   "mimetype": "text/x-python",
   "name": "python",
   "nbconvert_exporter": "python",
   "pygments_lexer": "ipython3",
   "version": "3.11.2"
  },
  "orig_nbformat": 4,
  "vscode": {
   "interpreter": {
    "hash": "168aa059a5af7b252558485289d4584304da3e386ef07f97a87d73674cf3bfc3"
   }
  }
 },
 "nbformat": 4,
 "nbformat_minor": 2
}
