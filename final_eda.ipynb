{
 "cells": [
  {
   "cell_type": "code",
   "execution_count": 1,
   "metadata": {},
   "outputs": [
    {
     "name": "stdout",
     "output_type": "stream",
     "text": [
      "{0, 1}\n"
     ]
    }
   ],
   "source": [
    "import os\n",
    "from matplotlib import pyplot as plt\n",
    "\n",
    "train_data = \"pooled_train\"\n",
    "test_data = \"pooled_test\"\n",
    "\n",
    "test_labels = []\n",
    "with open(test_data, \"r\") as f:\n",
    "    for line in f.readlines():\n",
    "        encoding1, encoding2, label = line.strip(\"\\n\").split(\";\")\n",
    "        test_labels.append(int(label))\n",
    "\n",
    "print(set(test_labels))"
   ]
  },
  {
   "cell_type": "code",
   "execution_count": 5,
   "metadata": {},
   "outputs": [
    {
     "data": {
      "text/plain": [
       "0.49038461538461536"
      ]
     },
     "execution_count": 5,
     "metadata": {},
     "output_type": "execute_result"
    }
   ],
   "source": [
    "total = len(test_labels)\n",
    "test_labels.count(1) / total"
   ]
  }
 ],
 "metadata": {
  "kernelspec": {
   "display_name": "venv",
   "language": "python",
   "name": "python3"
  },
  "language_info": {
   "codemirror_mode": {
    "name": "ipython",
    "version": 3
   },
   "file_extension": ".py",
   "mimetype": "text/x-python",
   "name": "python",
   "nbconvert_exporter": "python",
   "pygments_lexer": "ipython3",
   "version": "3.11.1"
  },
  "orig_nbformat": 4,
  "vscode": {
   "interpreter": {
    "hash": "168aa059a5af7b252558485289d4584304da3e386ef07f97a87d73674cf3bfc3"
   }
  }
 },
 "nbformat": 4,
 "nbformat_minor": 2
}
