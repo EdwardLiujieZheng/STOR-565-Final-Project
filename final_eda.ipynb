{
 "cells": [
  {
   "cell_type": "code",
   "execution_count": 6,
   "metadata": {},
   "outputs": [
    {
     "name": "stdout",
     "output_type": "stream",
     "text": [
      "29310\n",
      "7327\n",
      "0.19998908207549745\n",
      "{0, 1}\n"
     ]
    }
   ],
   "source": [
    "import os\n",
    "from matplotlib import pyplot as plt\n",
    "\n",
    "train_data = \"modified_train\"\n",
    "test_data = \"modified_test\"\n",
    "\n",
    "test_labels = []\n",
    "with open(test_data, \"r\") as f:\n",
    "    for line in f.readlines():\n",
    "        encoding, label = line.strip(\"\\n\").split(\";\")\n",
    "        test_labels.append(int(label))\n",
    "\n",
    "train_labels = []\n",
    "with open(train_data, \"r\") as f:\n",
    "    for line in f.readlines():\n",
    "        encoding, label = line.strip(\"\\n\").split(\";\")\n",
    "        train_labels.append(int(label))\n",
    "\n",
    "print(len(train_labels))\n",
    "print(len(test_labels))\n",
    "print(len(test_labels)/(len(train_labels)+len(test_labels)))\n",
    "print(set(test_labels))"
   ]
  },
  {
   "cell_type": "code",
   "execution_count": 7,
   "metadata": {},
   "outputs": [
    {
     "data": {
      "text/plain": [
       "0.5142623174559847"
      ]
     },
     "execution_count": 7,
     "metadata": {},
     "output_type": "execute_result"
    }
   ],
   "source": [
    "total = len(test_labels)\n",
    "test_labels.count(1) / total"
   ]
  }
 ],
 "metadata": {
  "kernelspec": {
   "display_name": "venv",
   "language": "python",
   "name": "python3"
  },
  "language_info": {
   "codemirror_mode": {
    "name": "ipython",
    "version": 3
   },
   "file_extension": ".py",
   "mimetype": "text/x-python",
   "name": "python",
   "nbconvert_exporter": "python",
   "pygments_lexer": "ipython3",
   "version": "3.11.2"
  },
  "orig_nbformat": 4,
  "vscode": {
   "interpreter": {
    "hash": "168aa059a5af7b252558485289d4584304da3e386ef07f97a87d73674cf3bfc3"
   }
  }
 },
 "nbformat": 4,
 "nbformat_minor": 2
}
